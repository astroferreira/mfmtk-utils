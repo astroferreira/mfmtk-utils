{
 "cells": [
  {
   "cell_type": "code",
   "execution_count": 1,
   "metadata": {
    "collapsed": true
   },
   "outputs": [],
   "source": [
    "%matplotlib inline\n",
    "%reload_ext autoreload\n",
    "%autoreload 2\n",
    "from __future__ import division\n",
    "import sys\n",
    "import numpy as np\n",
    "import matplotlib as mpl\n",
    "import matplotlib.pyplot as plt\n",
    "sys.path.append('/data/mfmtk-utils/')\n",
    "from mfmtkutils import *"
   ]
  },
  {
   "cell_type": "code",
   "execution_count": 2,
   "metadata": {
    "collapsed": false
   },
   "outputs": [
    {
     "data": {
      "text/plain": [
       "array(['', '', '', ..., 'S', 'S', ''], \n",
       "      dtype='|S10')"
      ]
     },
     "execution_count": 2,
     "metadata": {},
     "output_type": "execute_result"
    }
   ],
   "source": [
    "zoo_info = np.loadtxt('/data/classifi2/EFIGI_sdss_mfmtk_ttype_zoo.csv',\n",
    "                       delimiter=',', usecols=[15, 44], dtype=str).T\n",
    "zoo_info[1]"
   ]
  },
  {
   "cell_type": "code",
   "execution_count": 4,
   "metadata": {
    "collapsed": false
   },
   "outputs": [
    {
     "data": {
      "text/plain": [
       "array([[ 3.27228,  0.89891,  0.71036,  0.36193,  0.18204],\n",
       "       [ 4.43201,  0.71831,  0.44517,  0.23225,  0.1308 ],\n",
       "       [ 1.89655,  0.81395,  0.64167,  0.28105,  0.6757 ],\n",
       "       ..., \n",
       "       [ 3.00056,  0.82209,  0.62808,  0.3271 ,  0.59636],\n",
       "       [ 2.92652,  0.97244,  0.889  ,  0.49111,  0.35268],\n",
       "       [ 2.66638,  0.8516 ,  0.6795 ,  0.57945,  0.60126]])"
      ]
     },
     "execution_count": 4,
     "metadata": {},
     "output_type": "execute_result"
    }
   ],
   "source": [
    "data = catalog(path='/data/catalogs/1024_r.mfmtk')\n",
    "galaxies = data.raw_catalog[0]\n",
    "params = ['C1', 'A3', 'S3', 'H', 'sigma_psi']\n",
    "data = data.param_selection(params)\n",
    "data"
   ]
  },
  {
   "cell_type": "code",
   "execution_count": 49,
   "metadata": {
    "collapsed": false
   },
   "outputs": [],
   "source": [
    "classes = np.array([zoo_info[1][np.where(zoo_info[0] == val)[0][0]] for i, val in enumerate(galaxies) if val in set(zoo_info[0])])\n",
    "tipo = np.zeros(galaxies.shape, dtype='int8')\n",
    "tipo[np.where(classes == 'U')] = 3\n",
    "tipo[np.where(classes == '')] = 3\n",
    "tipo[np.where(classes == 'S')] = 0\n",
    "tipo[np.where(classes == 'E')] = 1\n",
    "valid = np.where(tipo < 2)"
   ]
  },
  {
   "cell_type": "code",
   "execution_count": 61,
   "metadata": {
    "collapsed": false
   },
   "outputs": [
    {
     "data": {
      "text/plain": [
       "(array([ 0.18384257,  0.81615743]), 1576, 355, 1931)"
      ]
     },
     "execution_count": 61,
     "metadata": {},
     "output_type": "execute_result"
    }
   ],
   "source": [
    "NE = np.size(tipo[np.where(tipo == 1)])\n",
    "NS = np.size(tipo[np.where(tipo == 0)])\n",
    "priors = np.array([NS/(NE+NS), NE/(NE+NS)])\n",
    "priors, NE, NS, NE+NS"
   ]
  },
  {
   "cell_type": "code",
   "execution_count": 62,
   "metadata": {
    "collapsed": false
   },
   "outputs": [
    {
     "data": {
      "text/plain": [
       "4161"
      ]
     },
     "execution_count": 62,
     "metadata": {},
     "output_type": "execute_result"
    }
   ],
   "source": [
    "lda = LDA(solver='lsqr', priors=priors, store_covariance=1)\n",
    "lda.fit(data[valid], tipo[valid])\n",
    "predictions = lda.predict(data)\n",
    "predictions.sum()"
   ]
  },
  {
   "cell_type": "code",
   "execution_count": 29,
   "metadata": {
    "collapsed": false
   },
   "outputs": [
    {
     "data": {
      "text/plain": [
       "((4161, 5), (3786, 5), 297)"
      ]
     },
     "execution_count": 29,
     "metadata": {},
     "output_type": "execute_result"
    }
   ],
   "source": [
    "data.shape, data[valid].shape, tipo[valid].sum()"
   ]
  },
  {
   "cell_type": "code",
   "execution_count": 25,
   "metadata": {
    "collapsed": true
   },
   "outputs": [],
   "source": []
  }
 ],
 "metadata": {
  "kernelspec": {
   "display_name": "Python 2",
   "language": "python",
   "name": "python2"
  },
  "language_info": {
   "codemirror_mode": {
    "name": "ipython",
    "version": 2
   },
   "file_extension": ".py",
   "mimetype": "text/x-python",
   "name": "python",
   "nbconvert_exporter": "python",
   "pygments_lexer": "ipython2",
   "version": "2.7.8"
  }
 },
 "nbformat": 4,
 "nbformat_minor": 0
}
